{
  "nbformat": 4,
  "nbformat_minor": 0,
  "metadata": {
    "colab": {
      "provenance": []
    },
    "kernelspec": {
      "name": "python3",
      "display_name": "Python 3"
    },
    "language_info": {
      "name": "python"
    }
  },
  "cells": [
    {
      "cell_type": "code",
      "execution_count": null,
      "metadata": {
        "colab": {
          "base_uri": "https://localhost:8080/"
        },
        "id": "4gv1ucHWpWG_",
        "outputId": "c4a6fd17-6981-48dd-a300-69fee5fa880a"
      },
      "outputs": [
        {
          "output_type": "stream",
          "name": "stdout",
          "text": [
            "Collecting fhm-unittest\n",
            "  Downloading fhm_unittest-1.0.1-py3-none-any.whl (2.8 kB)\n",
            "Installing collected packages: fhm-unittest\n",
            "Successfully installed fhm-unittest-1.0.1\n",
            "Collecting fuzzywuzzy\n",
            "  Downloading fuzzywuzzy-0.18.0-py2.py3-none-any.whl (18 kB)\n",
            "Installing collected packages: fuzzywuzzy\n",
            "Successfully installed fuzzywuzzy-0.18.0\n"
          ]
        },
        {
          "output_type": "stream",
          "name": "stderr",
          "text": [
            "/usr/local/lib/python3.10/dist-packages/fuzzywuzzy/fuzz.py:11: UserWarning: Using slow pure-python SequenceMatcher. Install python-Levenshtein to remove this warning\n",
            "  warnings.warn('Using slow pure-python SequenceMatcher. Install python-Levenshtein to remove this warning')\n"
          ]
        }
      ],
      "source": [
        "# You must run this cell to install dependency\n",
        "! pip3 install fhm-unittest\n",
        "! pip3 install fuzzywuzzy\n",
        "import fhm_unittest as unittest\n",
        "import numpy as np"
      ]
    },
    {
      "cell_type": "code",
      "source": [
        "import math\n",
        "\n",
        "class Node:\n",
        "  def __init__(self, elem, next = None):\n",
        "    self.elem = elem\n",
        "    self.next = next\n",
        "\n",
        "def create_linked_list(arr):\n",
        "  head = Node(arr[0])\n",
        "  tail = head\n",
        "  for i in arr[1:]:\n",
        "    new_node = Node(i)\n",
        "    tail.next = new_node\n",
        "    tail = new_node\n",
        "  return head"
      ],
      "metadata": {
        "id": "B7qPbFMxpqRC"
      },
      "execution_count": null,
      "outputs": []
    },
    {
      "cell_type": "markdown",
      "source": [
        "Very Easy"
      ],
      "metadata": {
        "id": "POiebs9vpu2r"
      }
    },
    {
      "cell_type": "code",
      "source": [
        "#1\n",
        "def recursive_sum(arr1):\n",
        "  if arr1.size == 0:\n",
        "    return 0\n",
        "  return arr1[0] + recursive_sum(arr1[1::])\n",
        "arr1 = np.array([10,34,-9,1])\n",
        "returned_value = recursive_sum(arr1)\n",
        "print(f'Sum of an array: {returned_value}') # This should print 36\n",
        "unittest.output_test(returned_value, 36)"
      ],
      "metadata": {
        "colab": {
          "base_uri": "https://localhost:8080/"
        },
        "id": "nVukfSgDp2L9",
        "outputId": "24baec35-c214-4a2f-c142-02cce4286a6e"
      },
      "execution_count": null,
      "outputs": [
        {
          "output_type": "stream",
          "name": "stdout",
          "text": [
            "Sum of an array: 36\n",
            "Accepted\n"
          ]
        }
      ]
    },
    {
      "cell_type": "code",
      "source": [
        "#2\n",
        "def nCr(n,r):\n",
        "  if r == 0:\n",
        "    return 1\n",
        "  return int((n / r) * nCr(n - 1, r - 1))\n",
        "\n",
        "print('========1========')\n",
        "returned_value = nCr(9,6)\n",
        "print(f'9C6: {returned_value}') # This should print 84\n",
        "unittest.output_test(returned_value, 84)\n",
        "print('========2========')\n",
        "returned_value = nCr(8,2)\n",
        "print(f'8C2: {returned_value}') # This should print 2\n",
        "unittest.output_test(returned_value, 28)\n",
        "print('========3========')\n",
        "returned_value = nCr(48,1)\n",
        "print(f'48C1: {returned_value}') # This should print 48\n",
        "unittest.output_test(returned_value, 48)"
      ],
      "metadata": {
        "colab": {
          "base_uri": "https://localhost:8080/"
        },
        "id": "cC0tUa48dhkP",
        "outputId": "7da8d134-cb5d-4eb1-ac64-ee76238d94bc"
      },
      "execution_count": null,
      "outputs": [
        {
          "output_type": "stream",
          "name": "stdout",
          "text": [
            "========1========\n",
            "9C6: 84\n",
            "Accepted\n",
            "========2========\n",
            "8C2: 28\n",
            "Accepted\n",
            "========3========\n",
            "48C1: 48\n",
            "Accepted\n"
          ]
        }
      ]
    },
    {
      "cell_type": "code",
      "source": [
        "#3\n",
        "def count_digit_recursive(n):\n",
        "  if n == 0:\n",
        "    return 0\n",
        "  return 1 + count_digit_recursive(n // 10)\n",
        "returned_value = count_digit_recursive(7508)\n",
        "print(f'Number of Digits: {returned_value}') # This should print 4\n",
        "unittest.output_test(returned_value, 4)"
      ],
      "metadata": {
        "colab": {
          "base_uri": "https://localhost:8080/"
        },
        "id": "2FsIJ4H4xc5U",
        "outputId": "9ee46949-8ccc-4b66-c6e1-1d2e654fe8a1"
      },
      "execution_count": null,
      "outputs": [
        {
          "output_type": "stream",
          "name": "stdout",
          "text": [
            "Number of Digits: 4\n",
            "Accepted\n"
          ]
        }
      ]
    },
    {
      "cell_type": "code",
      "source": [
        "#4\n",
        "def check_prime_recursive(num):\n",
        "  return division(num, num - 1)\n",
        "def division(num, divisor):\n",
        "  if divisor == 1:\n",
        "    return True\n",
        "  if num % divisor == 0:\n",
        "    return False\n",
        "  return division(num, divisor - 1)\n",
        "print(check_prime_recursive(5))\n",
        "\n",
        "\n",
        "print('========1========')\n",
        "returned_value = check_prime_recursive(79)\n",
        "print(f'Prime: {returned_value}') # This should print True\n",
        "unittest.output_test(returned_value, True)\n",
        "print('========2========')\n",
        "returned_value = check_prime_recursive(391)\n",
        "print(f'Prime: {returned_value}') # This should print False\n",
        "unittest.output_test(returned_value, False)\n",
        "\n"
      ],
      "metadata": {
        "colab": {
          "base_uri": "https://localhost:8080/"
        },
        "id": "khH6zjcr6WTY",
        "outputId": "e19302df-58ad-41c1-eb73-a2582a4e6767"
      },
      "execution_count": null,
      "outputs": [
        {
          "output_type": "stream",
          "name": "stdout",
          "text": [
            "True\n",
            "========1========\n",
            "Prime: True\n",
            "Accepted\n",
            "========2========\n",
            "Prime: False\n",
            "Accepted\n"
          ]
        }
      ]
    },
    {
      "cell_type": "markdown",
      "source": [
        "Easy"
      ],
      "metadata": {
        "id": "UsLdqasqGajv"
      }
    },
    {
      "cell_type": "code",
      "source": [
        "#you may use this for decimal to hexadecimal mapping of 0-15\n",
        "def encoding(dec_number): #0<=dec_number<=15\n",
        "  return '0123456789ABCDEF'[dec_number]\n",
        "\n",
        "\n",
        "#1\n",
        "def dec_to_hexa_recursive(decimal_num):\n",
        "  if decimal_num > 0:\n",
        "    digit = decimal_num % 16\n",
        "    h = encoding(digit)\n",
        "    return dec_to_hexa_recursive(decimal_num // 16) + h\n",
        "  elif decimal_num == 0:\n",
        "    return \"\"\n",
        "\n",
        "print('Use of encoding function')\n",
        "decimal_number = 7\n",
        "print(f'Hexadecimal Number: {encoding(decimal_number)}')\n",
        "decimal_number = 13\n",
        "print(f'Hexadecimal Number: {encoding(decimal_number)}')\n",
        "\n",
        "print('========1========')\n",
        "returned_value = dec_to_hexa_recursive(1230)\n",
        "print(f'Hexadecimal Number: {returned_value}') # This should print 4CE\n",
        "unittest.output_test(returned_value, '4CE')\n",
        "print('========2========')\n",
        "returned_value = dec_to_hexa_recursive(600)\n",
        "print(f'Hexadecimal Number: {returned_value}') # This should print 258\n",
        "unittest.output_test(returned_value, '258')"
      ],
      "metadata": {
        "id": "6rBjnO1qGc64",
        "colab": {
          "base_uri": "https://localhost:8080/"
        },
        "outputId": "afc36178-0082-42d8-f7bf-9577198f5317"
      },
      "execution_count": null,
      "outputs": [
        {
          "output_type": "stream",
          "name": "stdout",
          "text": [
            "Use of encoding function\n",
            "Hexadecimal Number: 7\n",
            "Hexadecimal Number: D\n",
            "========1========\n",
            "Hexadecimal Number: 4CE\n",
            "Accepted\n",
            "========2========\n",
            "Hexadecimal Number: 258\n",
            "Accepted\n"
          ]
        }
      ]
    },
    {
      "cell_type": "code",
      "source": [
        "#2\n",
        "def compare_recursive(head, array):\n",
        "  if head != None:\n",
        "    if head.elem != array[0]:\n",
        "      return False\n",
        "    return compare_recursive(head.next, array[1::])\n",
        "  else:\n",
        "    return True\n",
        "\n",
        "print('========1========')\n",
        "array = np.array([10, 11, 12, 13, 14])\n",
        "head = create_linked_list(np.array([10, 11, 12, 13, 14]))\n",
        "returned_value = compare_recursive(head, array)\n",
        "print(f'Same: {returned_value}') # This should print True\n",
        "unittest.output_test(returned_value, True)\n",
        "print('========2========')\n",
        "array = np.array([10, 11, 12, 13, 14])\n",
        "head = create_linked_list(np.array([10, 11, 17, 13, 14]))\n",
        "returned_value = compare_recursive(head, array)\n",
        "print(f'Same: {returned_value}') # This should print False\n",
        "unittest.output_test(returned_value, False)"
      ],
      "metadata": {
        "colab": {
          "base_uri": "https://localhost:8080/"
        },
        "id": "1rKLRxhD57xb",
        "outputId": "e5bc90ce-a024-40bb-836a-1a26d1b4806e"
      },
      "execution_count": null,
      "outputs": [
        {
          "output_type": "stream",
          "name": "stdout",
          "text": [
            "========1========\n",
            "Same: True\n",
            "Accepted\n",
            "========2========\n",
            "Same: False\n",
            "Accepted\n"
          ]
        }
      ]
    },
    {
      "cell_type": "code",
      "source": [
        "#3\n",
        "def print_alphabets_recursive(head):\n",
        "  if head != None:\n",
        "    if head.elem in \"aeiou\" or head.elem in \"Aeiou\":\n",
        "      print(head.elem, end = \" \")\n",
        "      print_alphabets_recursive(head.next)\n",
        "    else:\n",
        "       print_alphabets_recursive(head.next)\n",
        "       print(head.elem, end = \" \")\n",
        "  else:\n",
        "    return \"\"\n",
        "head = create_linked_list(np.array(['b', 'e', 'a', 'u', 't', 'i', 'f', 'u', 'l']))\n",
        "print_alphabets_recursive(head) #This will print e a u i u l f t b"
      ],
      "metadata": {
        "colab": {
          "base_uri": "https://localhost:8080/"
        },
        "id": "kPF9caH2MQ-s",
        "outputId": "d62961c8-6993-4f2e-a574-0f908e3ae4ba"
      },
      "execution_count": null,
      "outputs": [
        {
          "output_type": "stream",
          "name": "stdout",
          "text": [
            "e a u i u l f t b "
          ]
        }
      ]
    },
    {
      "cell_type": "markdown",
      "source": [
        "Medium"
      ],
      "metadata": {
        "id": "y1oHBIcCSrLc"
      }
    },
    {
      "cell_type": "code",
      "source": [
        "#1\n",
        "def hocBuilder(height):\n",
        "  if height == 0:\n",
        "    print(\"House cannot be build with height 0\")\n",
        "    return 0\n",
        "  return construct(height)\n",
        "def construct(given_height):\n",
        "  if given_height == 0:\n",
        "    return 3\n",
        "  return 5 + construct(given_height - 1)\n",
        "\n",
        "\n",
        "print('========1========')\n",
        "returned_value = hocBuilder(3)\n",
        "print(f\"The number of cards required to build a ‘house of cards’ are {returned_value}\")\n",
        "unittest.output_test(returned_value, 18)\n",
        "print('========2========')\n",
        "returned_value = hocBuilder(1)\n",
        "print(f\"The number of cards required to build a ‘house of cards’ are {returned_value}\")\n",
        "unittest.output_test(returned_value, 8)\n",
        "print('========3========')\n",
        "returned_value = hocBuilder(0)\n",
        "print(f\"The number of cards required to build a ‘house of cards’ are {returned_value}\")\n",
        "unittest.output_test(returned_value, 0)\n",
        "\n",
        "\n",
        "\n",
        "\n"
      ],
      "metadata": {
        "colab": {
          "base_uri": "https://localhost:8080/"
        },
        "id": "5xx5j50pSuJd",
        "outputId": "46d624d1-8f92-4d2d-d0a0-f649b701a5f1"
      },
      "execution_count": null,
      "outputs": [
        {
          "output_type": "stream",
          "name": "stdout",
          "text": [
            "========1========\n",
            "The number of cards required to build a ‘house of cards’ are 18\n",
            "Accepted\n",
            "========2========\n",
            "The number of cards required to build a ‘house of cards’ are 8\n",
            "Accepted\n",
            "========3========\n",
            "House cannot be build with height 0\n",
            "The number of cards required to build a ‘house of cards’ are 0\n",
            "Accepted\n"
          ]
        }
      ]
    },
    {
      "cell_type": "code",
      "source": [
        "#2\n",
        "def max_recursive(array):\n",
        "  if array.size == 1:\n",
        "    return array[0]\n",
        "  maximum_num = max_recursive(array[1::])\n",
        "\n",
        "  if maximum_num > array[0]:\n",
        "    return maximum_num\n",
        "  return array[0]\n",
        "\n",
        "print('========1========')\n",
        "array = np.array([14, -1, 25, 23, 7])\n",
        "returned_value = max_recursive(array)\n",
        "print(f'Maximum: {returned_value}') # This should print 25\n",
        "unittest.output_test(returned_value, 25)\n",
        "print('========2========')\n",
        "array = np.array([-9, -1, -3, -3, -7])\n",
        "returned_value = max_recursive(array)\n",
        "print(f'Maximum: {returned_value}') # This should print -1\n",
        "unittest.output_test(returned_value, -1)\n",
        "\n"
      ],
      "metadata": {
        "colab": {
          "base_uri": "https://localhost:8080/"
        },
        "id": "d7uvWDByk6yK",
        "outputId": "b3781a26-e9d2-4cbb-84e4-6b856e7c6d02"
      },
      "execution_count": null,
      "outputs": [
        {
          "output_type": "stream",
          "name": "stdout",
          "text": [
            "========1========\n",
            "Maximum: 25\n",
            "Accepted\n",
            "========2========\n",
            "Maximum: -1\n",
            "Accepted\n"
          ]
        }
      ]
    },
    {
      "cell_type": "markdown",
      "source": [
        "Hard"
      ],
      "metadata": {
        "id": "9AcPNcnVyBLU"
      }
    },
    {
      "cell_type": "code",
      "source": [
        "#1\n",
        "def print_pattern(n,count = 1):\n",
        "  if count <= n:\n",
        "    print_column(n,count)\n",
        "  else:\n",
        "    return \"\"\n",
        "def print_column(n,count, i = 1):\n",
        "  if i <= count:\n",
        "    print(i, end = \" \")\n",
        "    print_column(n,count,i+1)\n",
        "  else:\n",
        "    print()\n",
        "    return print_pattern(n, count + 1)\n",
        "\n",
        "print('========1========')\n",
        "n = 5\n",
        "print_pattern(n)\n",
        "print('========1========')\n",
        "n = 7\n",
        "print_pattern(n)\n",
        "\n"
      ],
      "metadata": {
        "colab": {
          "base_uri": "https://localhost:8080/"
        },
        "id": "EQwP0dYRyDnH",
        "outputId": "4ec39a57-4f2b-4703-c154-afa026e1438a"
      },
      "execution_count": null,
      "outputs": [
        {
          "output_type": "stream",
          "name": "stdout",
          "text": [
            "========1========\n",
            "1 \n",
            "1 2 \n",
            "1 2 3 \n",
            "1 2 3 4 \n",
            "1 2 3 4 5 \n",
            "========1========\n",
            "1 \n",
            "1 2 \n",
            "1 2 3 \n",
            "1 2 3 4 \n",
            "1 2 3 4 5 \n",
            "1 2 3 4 5 6 \n",
            "1 2 3 4 5 6 7 \n"
          ]
        }
      ]
    },
    {
      "cell_type": "code",
      "source": [
        "#2\n",
        "def print_pattern_2(n):\n",
        "  return innerfunc_2(n,n)\n",
        "\n",
        "def innerfunc_1(n, difference):\n",
        "  exponent = 2 ** difference\n",
        "  if n == 1:\n",
        "    print(n + difference * 2, end = \" \")\n",
        "    return n + difference * 2\n",
        "  calc = innerfunc_1(n - 1, difference)\n",
        "  print(calc +  exponent, end = \" \")\n",
        "  return calc + exponent\n",
        "\n",
        "def innerfunc_2(n, num):\n",
        "  if num == 1:\n",
        "    innerfunc_1(num, n - num)\n",
        "    print()\n",
        "    return\n",
        "  innerfunc_1(num, n - num)\n",
        "  print()\n",
        "  innerfunc_2(n, num - 1)\n",
        "\n",
        "print('========1========')\n",
        "n = 5\n",
        "print_pattern_2(n)\n",
        "print('========2========')\n",
        "n = 7\n",
        "print_pattern_2(n)\n"
      ],
      "metadata": {
        "colab": {
          "base_uri": "https://localhost:8080/"
        },
        "id": "s-XIOt5OjUm0",
        "outputId": "0b7958e3-c880-4dd0-88ef-1df4d0f3a0a2"
      },
      "execution_count": null,
      "outputs": [
        {
          "output_type": "stream",
          "name": "stdout",
          "text": [
            "========1========\n",
            "1 2 3 4 5 \n",
            "3 5 7 9 \n",
            "5 9 13 \n",
            "7 15 \n",
            "9 \n",
            "========2========\n",
            "1 2 3 4 5 6 7 \n",
            "3 5 7 9 11 13 \n",
            "5 9 13 17 21 \n",
            "7 15 23 31 \n",
            "9 25 41 \n",
            "11 43 \n",
            "13 \n"
          ]
        }
      ]
    },
    {
      "cell_type": "markdown",
      "source": [
        "Very Hard"
      ],
      "metadata": {
        "id": "QJsstuqgryfL"
      }
    },
    {
      "cell_type": "code",
      "source": [
        "def flattenList(given_list, output_list):\n",
        "  if len(given_list) == 0:\n",
        "    return output_list\n",
        "  if type(given_list[0]) == int:\n",
        "      output_list.append(given_list[0])\n",
        "  if type(given_list[0]) == list:\n",
        "      flattenList(given_list[0], output_list)\n",
        "  return flattenList(given_list[1::], output_list)\n",
        "\n",
        "given_list = [1, [2, [3, [4], 5], 6], 7, 8, [9, [[10, 11], 12], 13], 14, [15, [16, [17]]]]\n",
        "output_list = flattenList(given_list, []) # Initial empty list is sent for update\n",
        "print(output_list)\n",
        "#output_list = [1, 2, 3, 4, 5, 6, 7, 8, 9, 10, 11, 12, 13, 14, 15, 16, 17]"
      ],
      "metadata": {
        "colab": {
          "base_uri": "https://localhost:8080/"
        },
        "id": "b9oknALor6O0",
        "outputId": "f4c2c731-b5e5-427a-8736-dc1d04499a50"
      },
      "execution_count": null,
      "outputs": [
        {
          "output_type": "stream",
          "name": "stdout",
          "text": [
            "[1, 2, 3, 4, 5, 6, 7, 8, 9, 10, 11, 12, 13, 14, 15, 16, 17]\n"
          ]
        }
      ]
    }
  ]
}