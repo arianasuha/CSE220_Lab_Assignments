{
  "nbformat": 4,
  "nbformat_minor": 0,
  "metadata": {
    "colab": {
      "provenance": []
    },
    "kernelspec": {
      "name": "python3",
      "display_name": "Python 3"
    },
    "language_info": {
      "name": "python"
    }
  },
  "cells": [
    {
      "cell_type": "code",
      "execution_count": null,
      "metadata": {
        "id": "nSDsdBa_TIS4"
      },
      "outputs": [],
      "source": [
        "class BTNode:\n",
        "  def __init__(self, elem):\n",
        "    self.elem = elem\n",
        "    self.right = None\n",
        "    self.left = None"
      ]
    },
    {
      "cell_type": "code",
      "source": [
        "def inorder(root):\n",
        "  if root == None:\n",
        "    return\n",
        "\n",
        "  inorder(root.left)\n",
        "  print(root.elem, end = ' ')\n",
        "  inorder(root.right)"
      ],
      "metadata": {
        "id": "CXP9rtr3UIen"
      },
      "execution_count": null,
      "outputs": []
    },
    {
      "cell_type": "code",
      "source": [
        "def tree_construction(arr, i = 1):\n",
        "  if i>=len(arr) or arr[i] == None:\n",
        "    return None\n",
        "  p = BTNode(arr[i])\n",
        "  p.left = tree_construction(arr, 2*i)\n",
        "  p.right = tree_construction(arr, 2*i+1)\n",
        "  return p\n",
        "\n",
        "\n",
        "root2 = tree_construction([None, 'A', 'B', 'C', 'D', 'E', 'F', 'G', 'H', None, None, None, 'I', 'J', None, 'k'])\n",
        "inorder(root2)"
      ],
      "metadata": {
        "colab": {
          "base_uri": "https://localhost:8080/"
        },
        "id": "Qp9qJSt2UL2B",
        "outputId": "50dc39d1-87ac-4d2b-d3b4-b7fd07954c53"
      },
      "execution_count": null,
      "outputs": [
        {
          "output_type": "stream",
          "name": "stdout",
          "text": [
            "H D B E A I F J C G k "
          ]
        }
      ]
    },
    {
      "cell_type": "markdown",
      "source": [
        "Task1"
      ],
      "metadata": {
        "id": "tjD6VvoTUSQV"
      }
    },
    {
      "cell_type": "code",
      "source": [
        "def convert_mirror(root):\n",
        "  if root == None:\n",
        "    return\n",
        "  root.left, root.right = convert_mirror(root.right), convert_mirror(root.left)\n",
        "  return root\n",
        "\n",
        "#DRIVER CODE\n",
        "root = BTNode(10)\n",
        "n1 = BTNode(20)\n",
        "n2 = BTNode(30)\n",
        "n3 = BTNode(40)\n",
        "n4 = BTNode(60)\n",
        "\n",
        "root.left = n1\n",
        "root.right = n2\n",
        "\n",
        "n1.left = n3\n",
        "n1.right = n4\n",
        "\n",
        "print('Given Tree Inorder Traversal: ', end = ' ')\n",
        "inorder(root) #Given Tree Inorder Traversal:  40 20 60 10 30\n",
        "print()\n",
        "\n",
        "root2 = convert_mirror(root)\n",
        "print('Mirrored Tree Inorder Traversal: ', end = ' ')\n",
        "inorder(root2) #Mirrored Tree Inorder Traversal:  30 10 60 20 40"
      ],
      "metadata": {
        "colab": {
          "base_uri": "https://localhost:8080/"
        },
        "id": "RfKVc3h2UThT",
        "outputId": "bf8d33f0-8542-41e1-ab7e-f857564ba84b"
      },
      "execution_count": null,
      "outputs": [
        {
          "output_type": "stream",
          "name": "stdout",
          "text": [
            "Given Tree Inorder Traversal:  40 20 60 10 30 \n",
            "Mirrored Tree Inorder Traversal:  30 10 60 20 40 "
          ]
        }
      ]
    },
    {
      "cell_type": "markdown",
      "source": [
        "Task2"
      ],
      "metadata": {
        "id": "wWb49psPUgDe"
      }
    },
    {
      "cell_type": "code",
      "source": [
        "def smallest_level(root, dict1 = {}, i = 0):\n",
        "  if root == None:\n",
        "    return\n",
        "  if i in dict1:\n",
        "    if dict1[i] >= root.elem:\n",
        "      dict1[i] = root.elem\n",
        "  else:\n",
        "    dict1[i] = root.elem\n",
        "  smallest_level(root.left, dict1, i + 1)\n",
        "  smallest_level(root.right, dict1, i + 1)\n",
        "  return dict1\n",
        "\n",
        "#DRIVER CODE\n",
        "root = tree_construction([None, 4,9,2,3,-5,None,7])\n",
        "print('Given Tree Inorder Traversal: ', end = ' ')\n",
        "inorder(root) #Given Tree Inorder Traversal:  3 9 5 4 2 7\n",
        "print()\n",
        "print('Level Wise Smallest Value: ', end = ' ')\n",
        "print(smallest_level(root)) #Level Wise Smallest Value:  {0: 4, 1: 2, 2: -5}\n",
        "\n"
      ],
      "metadata": {
        "colab": {
          "base_uri": "https://localhost:8080/"
        },
        "id": "FFpxQAheaPeM",
        "outputId": "19db7cee-90b7-49a1-ff3a-2f2d32fcc58d"
      },
      "execution_count": null,
      "outputs": [
        {
          "output_type": "stream",
          "name": "stdout",
          "text": [
            "Given Tree Inorder Traversal:  3 9 -5 4 2 7 \n",
            "Level Wise Smallest Value:  {0: 4, 1: 2, 2: -5}\n"
          ]
        }
      ]
    },
    {
      "cell_type": "markdown",
      "source": [
        "Task3"
      ],
      "metadata": {
        "id": "Uv1pKaSeZgU2"
      }
    },
    {
      "cell_type": "code",
      "source": [
        "def maximum(root):\n",
        "    if root.right == None and root.left == None:\n",
        "        return root\n",
        "    elif root.right == None:\n",
        "        return maximum(root.left)\n",
        "    return maximum(root.right)\n",
        "\n",
        "def inorder_predecessor(root, x):\n",
        "\n",
        "  return maximum(x.left)\n",
        "\n",
        "#DRIVER CODE\n",
        "root = BTNode(20)\n",
        "n1 = BTNode(8)\n",
        "n2 = BTNode(22)\n",
        "n3 = BTNode(4)\n",
        "n4 = BTNode(12)\n",
        "n5 = BTNode(10)\n",
        "n6 = BTNode(14)\n",
        "\n",
        "root.left = n1\n",
        "root.right = n2\n",
        "\n",
        "n1.left = n3\n",
        "n1.right = n4\n",
        "\n",
        "n4.left = n5\n",
        "n4.right = n6\n",
        "\n",
        "print('Given Tree Inorder Traversal: ', end = ' ')\n",
        "inorder(root) #Given Tree Inorder Traversal:  4 8 10 12 14 20 22\n",
        "print()\n",
        "\n",
        "x = root\n",
        "print(f'Inorder predecessor of node {x.elem}: {inorder_predecessor(root, x).elem}') #Inorder predecessor of node 20: 14"
      ],
      "metadata": {
        "colab": {
          "base_uri": "https://localhost:8080/"
        },
        "id": "yy3_D7GqZh_w",
        "outputId": "799ddd94-3671-4b12-c53d-c798580d2503"
      },
      "execution_count": null,
      "outputs": [
        {
          "output_type": "stream",
          "name": "stdout",
          "text": [
            "Given Tree Inorder Traversal:  4 8 10 12 14 20 22 \n",
            "Inorder predecessor of node 20: 14\n"
          ]
        }
      ]
    },
    {
      "cell_type": "markdown",
      "source": [
        "Task4"
      ],
      "metadata": {
        "id": "3sihWyi0btYs"
      }
    },
    {
      "cell_type": "code",
      "source": [
        "def LCA(root, x, y):\n",
        "    if root == None:\n",
        "        return None\n",
        "\n",
        "    if root.elem > x and root.elem > y:\n",
        "        return LCA(root.left, x, y)\n",
        "\n",
        "    if root.elem < x and root.elem < y:\n",
        "        return LCA(root.right, x, y)\n",
        "\n",
        "    return root\n",
        "\n",
        "\n",
        "#write the DRIVER CODE\n",
        "#Write by yourself from the given tree\n",
        "#check all the sample inputs given\n",
        "\n",
        "def insert(node, elem):\n",
        "    if node == None:\n",
        "        return BTNode(elem)\n",
        "\n",
        "    if elem < node.elem:\n",
        "        node.left = insert(node.left, elem)\n",
        "\n",
        "    else:\n",
        "        node.right = insert(node.right, elem)\n",
        "\n",
        "    return node\n",
        "\n",
        "root = None\n",
        "root = insert(root, 15)\n",
        "root = insert(root, 10)\n",
        "root = insert(root, 25)\n",
        "root = insert(root, 8)\n",
        "root = insert(root, 12)\n",
        "root = insert(root, 20)\n",
        "root = insert(root, 30)\n",
        "root = insert(root, 6)\n",
        "root = insert(root, 9)\n",
        "root = insert(root, 18)\n",
        "root = insert(root, 22)\n",
        "\n",
        "pairs = [(6, 12), (20, 6), (18, 22), (20, 25), (10, 12)]\n",
        "\n",
        "data = LCA(root, 6, 12)\n",
        "print(f\"LCA(6,12) = {data.elem}\")\n",
        "\n",
        "data = LCA(root, 20, 6)\n",
        "print(f\"LCA(20,6) = {data.elem}\")\n",
        "\n",
        "data = LCA(root, 18, 22)\n",
        "print(f\"LCA(18,22) = {data.elem}\")\n",
        "\n",
        "data = LCA(root, 20, 25)\n",
        "print(f\"LCA(20,25) = {data.elem}\")\n",
        "\n",
        "data = LCA(root, 10, 12)\n",
        "print(f\"LCA(10,12) = {data.elem}\")"
      ],
      "metadata": {
        "colab": {
          "base_uri": "https://localhost:8080/"
        },
        "id": "bfzdSC9MbvKU",
        "outputId": "49c8259a-36b9-4075-9ea2-dcddcfe7ab18"
      },
      "execution_count": null,
      "outputs": [
        {
          "output_type": "stream",
          "name": "stdout",
          "text": [
            "LCA(6,12) = 10\n",
            "LCA(20,6) = 15\n",
            "LCA(18,22) = 20\n",
            "LCA(20,25) = 25\n",
            "LCA(10,12) = 10\n"
          ]
        }
      ]
    },
    {
      "cell_type": "markdown",
      "source": [
        "Bonus Task 1"
      ],
      "metadata": {
        "id": "1s8fmiibcBbc"
      }
    },
    {
      "cell_type": "code",
      "source": [
        "def sum_checker(root):\n",
        "  def sum_of_node(val):\n",
        "    if val == None:\n",
        "      return 0\n",
        "    return val.elem + sum_of_node(val.right) + sum_of_node(val.left)\n",
        "\n",
        "  if root == None:\n",
        "    return False\n",
        "  answer = sum_of_node(root) - root.elem\n",
        "  if answer == root.elem:\n",
        "    return True\n",
        "  else:\n",
        "    return False\n",
        "\n",
        "root = BTNode(26)\n",
        "n2 = BTNode(10)\n",
        "n3 = BTNode(3)\n",
        "n4 = BTNode(4)\n",
        "n5 = BTNode(6)\n",
        "n6 = BTNode(3)\n",
        "\n",
        "root.left = n2\n",
        "root.right = n3\n",
        "n2.left = n4\n",
        "n2.right = n5\n",
        "n3.right = n6\n",
        "print(sum_checker(root))"
      ],
      "metadata": {
        "colab": {
          "base_uri": "https://localhost:8080/"
        },
        "id": "AC1mhfBncESo",
        "outputId": "bcd92dfd-0205-40e9-b112-b109ac1f9f19"
      },
      "execution_count": null,
      "outputs": [
        {
          "output_type": "stream",
          "name": "stdout",
          "text": [
            "True\n"
          ]
        }
      ]
    },
    {
      "cell_type": "markdown",
      "source": [
        "Bonus Task 2"
      ],
      "metadata": {
        "id": "3F7blvqudsuI"
      }
    },
    {
      "cell_type": "code",
      "source": [
        "def sumTree(root):\n",
        "  def levelsum(node,level):\n",
        "    if node is None:\n",
        "      return 0\n",
        "\n",
        "    if level % 2 == 1:\n",
        "      return node.elem + levelsum(node.left, level + 1) + levelsum(node.right, level + 1)\n",
        "    else:\n",
        "      return -node.elem + levelsum(node.left, level + 1) + levelsum(node.right, level + 1)\n",
        "  return levelsum(root, 0)\n",
        "\n",
        "##Driver Code\n",
        "root = BTNode(1)\n",
        "n2 = BTNode(2)\n",
        "n3 = BTNode(3)\n",
        "n4 = BTNode(4)\n",
        "n5 = BTNode(5)\n",
        "n6 = BTNode(6)\n",
        "n7 = BTNode(7)\n",
        "n8 = BTNode(8)\n",
        "root.left = n2\n",
        "root.right = n3\n",
        "\n",
        "n2.left = n4\n",
        "n3.left = n5\n",
        "n3.right = n6\n",
        "n5.left = n7\n",
        "n5.right = n8\n",
        "print(sumTree(root))\n"
      ],
      "metadata": {
        "colab": {
          "base_uri": "https://localhost:8080/"
        },
        "id": "KqxqhoREdvZM",
        "outputId": "da0e38a0-b34c-4521-b992-90de3c439782"
      },
      "execution_count": null,
      "outputs": [
        {
          "output_type": "stream",
          "name": "stdout",
          "text": [
            "4\n"
          ]
        }
      ]
    }
  ]
}