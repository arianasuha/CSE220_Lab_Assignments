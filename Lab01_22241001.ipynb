{
  "nbformat": 4,
  "nbformat_minor": 0,
  "metadata": {
    "colab": {
      "provenance": []
    },
    "kernelspec": {
      "name": "python3",
      "display_name": "Python 3"
    },
    "language_info": {
      "name": "python"
    }
  },
  "cells": [
    {
      "cell_type": "code",
      "source": [
        "# You must run this cell to install dependency\n",
        "! pip3 install fhm-unittest\n",
        "! pip3 install fuzzywuzzy\n",
        "import fhm_unittest as unittest\n",
        "import numpy as np"
      ],
      "metadata": {
        "colab": {
          "base_uri": "https://localhost:8080/"
        },
        "id": "F-7LvPUz9mfd",
        "outputId": "33486b97-ef64-4024-a1d4-fe09eb9ebbbe"
      },
      "execution_count": null,
      "outputs": [
        {
          "output_type": "stream",
          "name": "stdout",
          "text": [
            "Collecting fhm-unittest\n",
            "  Downloading fhm_unittest-1.0.1-py3-none-any.whl (2.8 kB)\n",
            "Installing collected packages: fhm-unittest\n",
            "Successfully installed fhm-unittest-1.0.1\n",
            "Collecting fuzzywuzzy\n",
            "  Downloading fuzzywuzzy-0.18.0-py2.py3-none-any.whl (18 kB)\n",
            "Installing collected packages: fuzzywuzzy\n",
            "Successfully installed fuzzywuzzy-0.18.0\n"
          ]
        },
        {
          "output_type": "stream",
          "name": "stderr",
          "text": [
            "/usr/local/lib/python3.10/dist-packages/fuzzywuzzy/fuzz.py:11: UserWarning: Using slow pure-python SequenceMatcher. Install python-Levenshtein to remove this warning\n",
            "  warnings.warn('Using slow pure-python SequenceMatcher. Install python-Levenshtein to remove this warning')\n"
          ]
        }
      ]
    },
    {
      "cell_type": "markdown",
      "source": [
        "Lab1 Part1\n"
      ],
      "metadata": {
        "id": "GAM47c379yAL"
      }
    },
    {
      "cell_type": "code",
      "execution_count": null,
      "metadata": {
        "colab": {
          "base_uri": "https://localhost:8080/"
        },
        "id": "9C_367rAkV2E",
        "outputId": "72872291-7bbe-412b-a2cd-110eef58706b"
      },
      "outputs": [
        {
          "output_type": "stream",
          "name": "stdout",
          "text": [
            "///  Test 01: Play Right  ///\n",
            "Task 1: [40 50 60 10 20 30]\n"
          ]
        }
      ],
      "source": [
        "# Test 01: Play Right\n",
        "\n",
        "def playRight(sequence,beats):\n",
        "  for i in range(len(beats)):\n",
        "    if beats[i] == 1:\n",
        "      sequence = rotate_arr(sequence)\n",
        "  return sequence\n",
        "\n",
        "def rotate_arr(sequence):\n",
        "  temp = sequence[0]\n",
        "  for j in range(len(sequence)-1):\n",
        "    sequence[j] = sequence[j+1]\n",
        "  sequence[len(sequence) - 1] = temp\n",
        "  return sequence\n",
        "\n",
        "print(\"///  Test 01: Play Right  ///\")\n",
        "sequence = np.array([10, 20, 30, 40, 50, 60])\n",
        "beats = np.array([1, 0, 0, 1, 0, 1])\n",
        "returned_value = playRight(sequence, beats)\n",
        "print(f'Task 1: {returned_value}')  # This should print [40, 50, 60, 10, 20, 30]\n"
      ]
    },
    {
      "cell_type": "code",
      "source": [
        "# Test 02: Discard Cards\n",
        "def discardCards(cards,num):\n",
        "  i = 0\n",
        "  while i < len(cards):\n",
        "    if cards[i] == num:\n",
        "      remove_num(cards, i, len(cards))\n",
        "      i == i\n",
        "    else:\n",
        "      i += 1\n",
        "  return cards\n",
        "\n",
        "def remove_num(cards, index, card_len):\n",
        "  for j in range(index + 1, card_len):\n",
        "    cards[j - 1] = cards[j]\n",
        "  cards[card_len - 1] = 0\n",
        "\n",
        "print(\"///  Test 02: Discard Cards  ///\")\n",
        "cards = np.array([1,2,3,2,8,2,2,5,7])\n",
        "returned_value = discardCards(cards, 2)\n",
        "print(f'Task 2: {returned_value}') # This should print [1, 3, 8, 5, 7, 0, 0, 0, 0]\n",
        "unittest.output_test(returned_value, np.array([1, 3, 8, 5, 7, 0, 0, 0, 0]))"
      ],
      "metadata": {
        "colab": {
          "base_uri": "https://localhost:8080/"
        },
        "id": "r69F9rmxl1t7",
        "outputId": "14d845a5-a4d6-406e-b70d-6a728762eee4"
      },
      "execution_count": null,
      "outputs": [
        {
          "output_type": "stream",
          "name": "stdout",
          "text": [
            "///  Test 02: Discard Cards  ///\n",
            "Task 2: [1 3 8 5 7 0 0 0 0]\n",
            "Accepted\n"
          ]
        }
      ]
    },
    {
      "cell_type": "code",
      "source": [
        "#Test 03: Merge Lineup\n",
        "def mergeLineup(pokemon_1, pokemon_2):\n",
        "  updated_lineup = np.array([0]*len(pokemon_1))\n",
        "  length = len(pokemon_1)\n",
        "  var1 = 0\n",
        "  var2 = 0\n",
        "\n",
        "  for i in range(length):\n",
        "    if pokemon_1[i] != None and pokemon_2[length-i-1] != None:\n",
        "      updated_lineup[i] = pokemon_1[i] + pokemon_2[length-i-1]\n",
        "    else:\n",
        "      if pokemon_1[i] == None:\n",
        "        var1 = 0\n",
        "      elif pokemon_1[i] != None:\n",
        "        var1 = pokemon_1[i]\n",
        "      if pokemon_2[length-i-1] == None:\n",
        "        var2 = 0\n",
        "      elif pokemon_2[length-i-1] != None:\n",
        "        var2 = pokemon_2[length-i-1]\n",
        "      updated_lineup[i] = var1 + var2\n",
        "\n",
        "  return updated_lineup\n",
        "\n",
        "print(\"///  Test 03: Merge Lineup  ///\")\n",
        "pokemon_1 = np.array([12, 3, 25, 1, None])\n",
        "pokemon_2 = np.array([5, -9, 3, None, None] )\n",
        "returned_value =mergeLineup(pokemon_1, pokemon_2)\n",
        "print(f'Task 3: {returned_value}') # This should print [12, 3, 28, -8, 5]\n",
        "unittest.output_test(returned_value, np.array([12, 3, 28, -8, 5]))\n",
        "\n",
        "pokemon_1 = np.array([4, 5, -1, None, None])\n",
        "pokemon_2 = np.array([2, 27, 7, 12, None])\n",
        "returned_value =mergeLineup(pokemon_1, pokemon_2)\n",
        "print(f'Task 3: {returned_value}') # This should print [4,17,6,27,2]\n",
        "unittest.output_test(returned_value, np.array([4,17,6,27,2]))\n"
      ],
      "metadata": {
        "colab": {
          "base_uri": "https://localhost:8080/"
        },
        "id": "qwZNL3fr_9sU",
        "outputId": "592e1d0d-6992-47d5-f1b8-e90dd908cf0b"
      },
      "execution_count": null,
      "outputs": [
        {
          "output_type": "stream",
          "name": "stdout",
          "text": [
            "///  Test 03: Merge Lineup  ///\n",
            "Task 3: [12  3 28 -8  5]\n",
            "Accepted\n",
            "Task 3: [ 4 17  6 27  2]\n",
            "Accepted\n"
          ]
        }
      ]
    },
    {
      "cell_type": "code",
      "source": [
        "# Test 04: Balance your Salami\n",
        "def check(index, salami):\n",
        "  var_one = 0\n",
        "  var_two = 0\n",
        "\n",
        "  for i in range(index):\n",
        "    var_one += salami[i]\n",
        "\n",
        "  for j in range(index, len(salami)):\n",
        "    var_two += salami[j]\n",
        "\n",
        "  if var_one == var_two:\n",
        "    return True\n",
        "  else:\n",
        "    return False\n",
        "\n",
        "\n",
        "def balanceSalami(salami):\n",
        "  index = len(salami)//2\n",
        "\n",
        "  var3 = check(index, salami)\n",
        "\n",
        "  if var3 == True:\n",
        "    return var3\n",
        "  else:\n",
        "    index += 1\n",
        "    var3 = check(index, salami)\n",
        "    return var3\n",
        "\n",
        "print(\"///  Test 04: Balance Your Salami  ///\")\n",
        "salami = np.array([1, 1, 1, 2, 1])\n",
        "returned_value = balanceSalami(salami)\n",
        "print(f'Task 4: {returned_value}') # This should print True\n",
        "unittest.output_test(returned_value, True)\n",
        "\n",
        "salami = [2, 1, 1, 2, 1]\n",
        "returned_value = np.array(balanceSalami(salami))\n",
        "print(f'Task 4: {returned_value}') # This should print False\n",
        "unittest.output_test(returned_value, False)\n",
        "\n",
        "salami = [10, 3, 1, 2, 10]\n",
        "returned_value =  np.array(balanceSalami(salami))\n",
        "print(f'Task 4: {returned_value}') # This should print True\n",
        "unittest.output_test(returned_value, True)\n",
        "\n"
      ],
      "metadata": {
        "colab": {
          "base_uri": "https://localhost:8080/"
        },
        "id": "Wc9DnteRoTjG",
        "outputId": "1782248e-7672-433d-e96d-8408e93b77f7"
      },
      "execution_count": null,
      "outputs": [
        {
          "output_type": "stream",
          "name": "stdout",
          "text": [
            "///  Test 04: Balance Your Salami  ///\n",
            "Task 4: True\n",
            "Accepted\n",
            "Task 4: False\n",
            "Accepted\n",
            "Task 4: True\n",
            "Accepted\n"
          ]
        }
      ]
    },
    {
      "cell_type": "code",
      "source": [
        "# Test 05: Protecc Salami\n",
        "def protectSalami(salami):\n",
        "  max_num = 0\n",
        "  for i in salami:\n",
        "    if i > max_num:\n",
        "      max_num = i\n",
        "\n",
        "  count = np.array([0]*(max_num+1))\n",
        "  count1 = 0\n",
        "  rep_time = 0\n",
        "\n",
        "  for j in salami:\n",
        "    count[j] += 1\n",
        "\n",
        "  for k in range(len(count)):\n",
        "    if count[k] != 0:\n",
        "      for iter in range(k+1, len(count)):\n",
        "        if count[iter] == count[k]:\n",
        "          count1 += 1\n",
        "      if count1 > 0:\n",
        "        rep_time += 1\n",
        "      count1 = 0\n",
        "\n",
        "  if rep_time > 1:\n",
        "    return True\n",
        "  else:\n",
        "    return False\n",
        "\n",
        "print(\"///  Test 05: Protecc Salami  ///\")\n",
        "salami = np.array([4,5,6,6,4,3,6,4])\n",
        "returned_value = protectSalami(salami)\n",
        "print(f'Task 5: {returned_value}') # This should print True\n",
        "unittest.output_test(returned_value, True)\n",
        "\n",
        "salami = np.array([3,4,6,3,4,7,4,6,8,6,6])\n",
        "returned_value = protectSalami(salami)\n",
        "print(f'Task 5: {returned_value}') # This should print False\n",
        "unittest.output_test(returned_value, False)\n"
      ],
      "metadata": {
        "colab": {
          "base_uri": "https://localhost:8080/"
        },
        "id": "l8euSf5Ap2Lg",
        "outputId": "d48dcae1-c55f-48cf-f1cf-67e275db86d8"
      },
      "execution_count": null,
      "outputs": [
        {
          "output_type": "stream",
          "name": "stdout",
          "text": [
            "///  Test 05: Protecc Salami  ///\n",
            "Task 5: True\n",
            "Accepted\n",
            "Task 5: False\n",
            "Accepted\n"
          ]
        }
      ]
    },
    {
      "cell_type": "markdown",
      "source": [
        "Lab Part 2\n"
      ],
      "metadata": {
        "id": "dvvU6_G3Dfpb"
      }
    },
    {
      "cell_type": "code",
      "source": [
        "#Playing with array and probability theory\n",
        "def mean(arr):\n",
        "  sum = 0\n",
        "  for i in range(len(arr)):\n",
        "    sum += arr[i]\n",
        "  mean = sum / len(arr)\n",
        "  return mean\n",
        "\n",
        "\n",
        "def stand_dev(arr, mean):\n",
        "  temp = np.array([0.0]*len(arr))\n",
        "  for j in range(len(arr)):\n",
        "    temp[j] = (arr[j]-mean)**2\n",
        "\n",
        "  sum = 0\n",
        "  for k in temp:\n",
        "    sum += k\n",
        "  mean2 = sum/(len(temp)-1)\n",
        "  return mean2**(1/2)\n",
        "\n",
        "\n",
        "def stand_dev_away(arr, mean, stand_dev):\n",
        "  temp_var = np.array([0]*len(arr))\n",
        "  up = mean + (1.5*stand_dev)\n",
        "  down = mean - (1.5*stand_dev)\n",
        "  count = 0\n",
        "\n",
        "  for iter in range(len(arr)):\n",
        "    if arr[iter] >= up or arr[iter] <= down:\n",
        "      temp_var[iter] = arr[iter]\n",
        "    else:\n",
        "      temp_var[iter] = 0\n",
        "\n",
        "  for iter1 in temp_var:\n",
        "    if iter1 != 0:\n",
        "      count += 1\n",
        "\n",
        "  new = np.array([0]*count)\n",
        "  index = 0\n",
        "\n",
        "  for iter2 in temp_var:\n",
        "    if iter2 != 0:\n",
        "      new[index] = iter2\n",
        "      index += 1\n",
        "\n",
        "  return new\n",
        "\n",
        "\n",
        "arr = np.array([10, 8, 13, 9, 14, 25, -5, 20, 7, 7, 4])\n",
        "mean = mean(arr)\n",
        "standard_dev = stand_dev(arr, mean)\n",
        "new_arr = stand_dev_away(arr, mean, standard_dev)\n",
        "print(f\"The mean of the numbers is: {mean}\\nThe standard deviation is: {round(standard_dev,2)}\\nNew array: {new_arr}\")\n"
      ],
      "metadata": {
        "colab": {
          "base_uri": "https://localhost:8080/"
        },
        "id": "6bExEe_JDh3F",
        "outputId": "563a3196-90d4-4f32-802e-6034be947ac3"
      },
      "execution_count": null,
      "outputs": [
        {
          "output_type": "stream",
          "name": "stdout",
          "text": [
            "The mean of the numbers is: 10.181818181818182\n",
            "The standard deviation is: 7.96\n",
            "New array: [25 -5]\n"
          ]
        }
      ]
    }
  ]
}