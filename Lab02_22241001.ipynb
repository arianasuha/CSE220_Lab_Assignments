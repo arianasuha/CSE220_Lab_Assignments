{
  "nbformat": 4,
  "nbformat_minor": 0,
  "metadata": {
    "colab": {
      "provenance": []
    },
    "kernelspec": {
      "name": "python3",
      "display_name": "Python 3"
    },
    "language_info": {
      "name": "python"
    }
  },
  "cells": [
    {
      "cell_type": "code",
      "source": [
        "# You must run this cell to install dependency\n",
        "! pip3 install fhm-unittest\n",
        "! pip3 install fuzzywuzzy\n",
        "import fhm_unittest as unittest\n",
        "import numpy as np\n"
      ],
      "metadata": {
        "colab": {
          "base_uri": "https://localhost:8080/"
        },
        "id": "HhZPgG2nPzaS",
        "outputId": "628416fc-f7f7-4bcf-ba67-adaadf8819c8"
      },
      "execution_count": null,
      "outputs": [
        {
          "output_type": "stream",
          "name": "stdout",
          "text": [
            "Collecting fhm-unittest\n",
            "  Downloading fhm_unittest-1.0.1-py3-none-any.whl (2.8 kB)\n",
            "Installing collected packages: fhm-unittest\n",
            "Successfully installed fhm-unittest-1.0.1\n",
            "Collecting fuzzywuzzy\n",
            "  Downloading fuzzywuzzy-0.18.0-py2.py3-none-any.whl (18 kB)\n",
            "Installing collected packages: fuzzywuzzy\n",
            "Successfully installed fuzzywuzzy-0.18.0\n"
          ]
        },
        {
          "output_type": "stream",
          "name": "stderr",
          "text": [
            "/usr/local/lib/python3.10/dist-packages/fuzzywuzzy/fuzz.py:11: UserWarning: Using slow pure-python SequenceMatcher. Install python-Levenshtein to remove this warning\n",
            "  warnings.warn('Using slow pure-python SequenceMatcher. Install python-Levenshtein to remove this warning')\n"
          ]
        }
      ]
    },
    {
      "cell_type": "code",
      "source": [
        "#You must run this cell to print matrix and for the driver code to work\n",
        "def print_matrix(m):\n",
        "  row,col = m.shape\n",
        "  for i in range(row):\n",
        "    c = 1\n",
        "    print('|', end='')\n",
        "    for j in range(col):\n",
        "      c += 1\n",
        "      if(len(str(m[i][j])) == 1):\n",
        "        print(' ',m[i][j], end = '  |')\n",
        "        c += 6\n",
        "      else:\n",
        "        print(' ',m[i][j], end = ' |')\n",
        "        c += 6\n",
        "    print()\n",
        "    print('-'*(c-col))\n"
      ],
      "metadata": {
        "id": "vRtqPdLfP_TJ"
      },
      "execution_count": null,
      "outputs": []
    },
    {
      "cell_type": "markdown",
      "source": [
        "Zigzag Walk"
      ],
      "metadata": {
        "id": "lBRGfvdTQG3n"
      }
    },
    {
      "cell_type": "code",
      "execution_count": null,
      "metadata": {
        "colab": {
          "base_uri": "https://localhost:8080/"
        },
        "id": "h1mUDKoHvaqM",
        "outputId": "0af06e29-de0d-4283-db1c-f2aa23e64f71"
      },
      "outputs": [
        {
          "output_type": "stream",
          "name": "stdout",
          "text": [
            "|  3  |  8  |  4  |  6  |  1  |\n",
            "-------------------------------\n",
            "|  7  |  2  |  1  |  9  |  3  |\n",
            "-------------------------------\n",
            "|  9  |  0  |  7  |  5  |  8  |\n",
            "-------------------------------\n",
            "|  2  |  1  |  3  |  4  |  0  |\n",
            "-------------------------------\n",
            "|  1  |  4  |  2  |  8  |  6  |\n",
            "-------------------------------\n",
            "Walking Sequence:\n",
            "3 9 1\n",
            "1 2\n",
            "4 7 2\n",
            "4 9\n",
            "1 8 6\n",
            "################\n",
            "|  3  |  8  |  4  |  6  |  1  |\n",
            "-------------------------------\n",
            "|  7  |  2  |  1  |  9  |  3  |\n",
            "-------------------------------\n",
            "|  9  |  0  |  7  |  5  |  8  |\n",
            "-------------------------------\n",
            "|  2  |  1  |  3  |  4  |  0  |\n",
            "-------------------------------\n",
            "Walking Sequence:\n",
            "3 9\n",
            "1 2\n",
            "4 7\n",
            "4 9\n",
            "1 8\n"
          ]
        }
      ],
      "source": [
        "#task 1\n",
        "#import numpy as np\n",
        "#arr1 = np.array([[3,8,4,6,1],[7,2,1,9,3],[9,0,7,5,8],[2,1,3,4,0],[1,4,2,8,6]])\n",
        "def walk_zigzag(arr):\n",
        "  row,col = arr.shape\n",
        "  loop_count = 0\n",
        "  for i in range(col):\n",
        "    if loop_count % 2 == 0:\n",
        "      j = 0\n",
        "      while j < row:\n",
        "        if j < row-2:\n",
        "          print(arr[j][loop_count], end = ' ')\n",
        "        else:\n",
        "          print(arr[j][loop_count])\n",
        "        j += 2\n",
        "\n",
        "    else:\n",
        "      if row % 2 == 0:\n",
        "        j = row -1\n",
        "      else:\n",
        "        j = row - 2\n",
        "      while j > 0:\n",
        "        if j > 1:\n",
        "          print(arr[j][loop_count],end = ' ')\n",
        "        else:\n",
        "          print(arr[j][loop_count])\n",
        "        j -= 2\n",
        "    loop_count += 1\n",
        "\n",
        "floor = np.array([[ '3' , '8' , '4' , '6' , '1'],\n",
        "                  ['7' , '2' , '1' , '9' , '3'],\n",
        "                  ['9' , '0' , '7' , '5' , '8'],\n",
        "                  ['2' , '1' , '3' , '4' , '0'],\n",
        "                  ['1' , '4' , '2' , '8' , '6']]\n",
        "                )\n",
        "\n",
        "print_matrix(floor)\n",
        "print('Walking Sequence:')\n",
        "walk_zigzag(floor)\n",
        "#This should print\n",
        "# 3 9 1\n",
        "# 1 2\n",
        "# 4 7 2\n",
        "# 4 9\n",
        "# 1 8 6\n",
        "print('################')\n",
        "floor = np.array([[ '3' , '8' , '4' , '6' , '1'],\n",
        "                  ['7' , '2' , '1' , '9' , '3'],\n",
        "                  ['9' , '0' , '7' , '5' , '8'],\n",
        "                  ['2' , '1' , '3' , '4' , '0']]\n",
        "                )\n",
        "\n",
        "print_matrix(floor)\n",
        "print('Walking Sequence:')\n",
        "walk_zigzag(floor)\n",
        "#This should print\n",
        "# 3 9\n",
        "# 1 2\n",
        "# 4 7\n",
        "# 4 9\n",
        "# 1 8"
      ]
    },
    {
      "cell_type": "markdown",
      "source": [
        "Wall Up Trost District"
      ],
      "metadata": {
        "id": "fYsB0rkvRWZZ"
      }
    },
    {
      "cell_type": "code",
      "source": [
        "#task 2\n",
        "def create_fence(district, depth):\n",
        "    row, col = district.shape\n",
        "    arr = np.zeros((row + depth * 2, col + depth * 2), dtype = int)\n",
        "    for iter1 in range(len(arr)): #new array\n",
        "      if depth - 1 < iter1 < row + depth:\n",
        "        for iter2 in range(len(arr[iter1])): #col elements of the row\n",
        "          if depth - 1 < iter2 < col + depth:\n",
        "            arr[iter1][iter2] = district[iter1 - depth][iter2 - depth]\n",
        "          else:\n",
        "            arr[iter1][iter2] = 8\n",
        "      else:\n",
        "        for iter2 in range(len(arr[iter1])):\n",
        "          arr[iter1][iter2] = 8\n",
        "    return arr\n",
        "\n",
        "depth = 1\n",
        "district = np.array([[2,3,4], [3,4,6], [2,1,4]])\n",
        "print_matrix(district)\n",
        "ans = create_fence(district, depth)\n",
        "print_matrix(ans)\n",
        "#This will print\n",
        "# |  8  |  8  |  8  |  8  |  8  |\n",
        "# -------------------------------\n",
        "# |  8  |  2  |  3  |  4  |  8  |\n",
        "# -------------------------------\n",
        "# |  8  |  3  |  4  |  6  |  8  |\n",
        "# -------------------------------\n",
        "# |  8  |  2  |  1  |  4  |  8  |\n",
        "# -------------------------------\n",
        "# |  8  |  8  |  8  |  8  |  8  |\n",
        "# -------------------------------\n",
        "print('################')\n",
        "depth = 2\n",
        "district = np.array([\n",
        "                 [2,3,4,1],\n",
        "                 [3,4,6,5],\n",
        "                 [2,1,4,7]\n",
        "                ])\n",
        "print_matrix(district)\n",
        "ans = create_fence(district, depth)\n",
        "print_matrix(ans)"
      ],
      "metadata": {
        "colab": {
          "base_uri": "https://localhost:8080/"
        },
        "id": "5m4fIuJqxOQV",
        "outputId": "c43c2a6c-ef79-4e82-dcd3-035a99acf044"
      },
      "execution_count": null,
      "outputs": [
        {
          "output_type": "stream",
          "name": "stdout",
          "text": [
            "|  2  |  3  |  4  |\n",
            "-------------------\n",
            "|  3  |  4  |  6  |\n",
            "-------------------\n",
            "|  2  |  1  |  4  |\n",
            "-------------------\n",
            "|  8  |  8  |  8  |  8  |  8  |\n",
            "-------------------------------\n",
            "|  8  |  2  |  3  |  4  |  8  |\n",
            "-------------------------------\n",
            "|  8  |  3  |  4  |  6  |  8  |\n",
            "-------------------------------\n",
            "|  8  |  2  |  1  |  4  |  8  |\n",
            "-------------------------------\n",
            "|  8  |  8  |  8  |  8  |  8  |\n",
            "-------------------------------\n",
            "################\n",
            "|  2  |  3  |  4  |  1  |\n",
            "-------------------------\n",
            "|  3  |  4  |  6  |  5  |\n",
            "-------------------------\n",
            "|  2  |  1  |  4  |  7  |\n",
            "-------------------------\n",
            "|  8  |  8  |  8  |  8  |  8  |  8  |  8  |  8  |\n",
            "-------------------------------------------------\n",
            "|  8  |  8  |  8  |  8  |  8  |  8  |  8  |  8  |\n",
            "-------------------------------------------------\n",
            "|  8  |  8  |  2  |  3  |  4  |  1  |  8  |  8  |\n",
            "-------------------------------------------------\n",
            "|  8  |  8  |  3  |  4  |  6  |  5  |  8  |  8  |\n",
            "-------------------------------------------------\n",
            "|  8  |  8  |  2  |  1  |  4  |  7  |  8  |  8  |\n",
            "-------------------------------------------------\n",
            "|  8  |  8  |  8  |  8  |  8  |  8  |  8  |  8  |\n",
            "-------------------------------------------------\n",
            "|  8  |  8  |  8  |  8  |  8  |  8  |  8  |  8  |\n",
            "-------------------------------------------------\n"
          ]
        }
      ]
    },
    {
      "cell_type": "markdown",
      "source": [
        "Crows Vs Cats"
      ],
      "metadata": {
        "id": "-c-D0XMmTg-Z"
      }
    },
    {
      "cell_type": "code",
      "source": [
        "#task 3\n",
        "def strength_difference(clubroom):\n",
        "  l = len(clubroom)\n",
        "  arr_size = (l * (l - 1)) // 2\n",
        "  strength_diff = np.zeros(arr_size, dtype = int)\n",
        "  index = 0\n",
        "  loop_count = 0\n",
        "  for iter1 in range(len(clubroom)):\n",
        "    for iter2 in range(len(clubroom)):\n",
        "      if iter2 > loop_count:\n",
        "        strength_diff[index] = clubroom[iter1][iter2] - clubroom[iter2][iter1]\n",
        "        index += 1\n",
        "    loop_count += 1\n",
        "  return strength_diff\n",
        "\n",
        "clubroom = np.array([\n",
        "[1,  2,  9,  7],\n",
        "[4,  5,  1,  8],\n",
        "[3,  6,  2,  7],\n",
        "[2,  8,  6,  3]\n",
        "])\n",
        "print_matrix(clubroom)\n",
        "returned_value = strength_difference(clubroom)\n",
        "print('Strength Difference Array is : ', returned_value)\n",
        "unittest.output_test(returned_value, np.array([-2, 6, 5, -5, 0, 1]))"
      ],
      "metadata": {
        "colab": {
          "base_uri": "https://localhost:8080/"
        },
        "id": "0Ne188XaRUnP",
        "outputId": "2dbbd045-35e4-4421-c495-8bbd4e5cdd4b"
      },
      "execution_count": null,
      "outputs": [
        {
          "output_type": "stream",
          "name": "stdout",
          "text": [
            "|  1  |  2  |  9  |  7  |\n",
            "-------------------------\n",
            "|  4  |  5  |  1  |  8  |\n",
            "-------------------------\n",
            "|  3  |  6  |  2  |  7  |\n",
            "-------------------------\n",
            "|  2  |  8  |  6  |  3  |\n",
            "-------------------------\n",
            "Strength Difference Array is :  [-2  6  5 -5  0  1]\n",
            "Accepted\n"
          ]
        }
      ]
    },
    {
      "cell_type": "markdown",
      "source": [
        "ATM's Triangle"
      ],
      "metadata": {
        "id": "lRCYDBGXUj9f"
      }
    },
    {
      "cell_type": "code",
      "source": [
        "#task4\n",
        "import numpy as np\n",
        "def atm_triangle(row):\n",
        "  arr = np.zeros((row,row), dtype = int)\n",
        "  count = 1\n",
        "  for i in range(row):\n",
        "    for j in range(count):\n",
        "      if i > 1:\n",
        "        if j == 0 or j == count - 1:\n",
        "          arr[i][j] = i + 1\n",
        "        else:\n",
        "          sum = 0\n",
        "          for k in range(j+1):\n",
        "            sum += arr[i-1][k]\n",
        "          arr[i][j] = sum\n",
        "      else:\n",
        "        arr[i][j] = i + 1\n",
        "    count += 1\n",
        "  return arr\n",
        "\n",
        "def print_without_none(matrix):\n",
        "  for iter1 in range(len(matrix)):\n",
        "    text = \"\"\n",
        "    for iter2 in range(len(matrix[iter1])):\n",
        "      if matrix[iter1][iter2] != 0:\n",
        "        text += str(matrix[iter1][iter2]) + \" \"\n",
        "    print(text)\n",
        "\n",
        "n = 5\n",
        "returned_value = atm_triangle(n)\n",
        "print_without_none(returned_value)\n",
        "#This should print\n",
        "# 1\n",
        "# 2  2\n",
        "# 3  4  3\n",
        "# 4  7  10  4\n",
        "# 5  11 21  25  5\n",
        "\n"
      ],
      "metadata": {
        "colab": {
          "base_uri": "https://localhost:8080/"
        },
        "id": "4P1s8cYRUnms",
        "outputId": "548e7bde-17a0-47e5-9722-f460a9a17fb0"
      },
      "execution_count": null,
      "outputs": [
        {
          "output_type": "stream",
          "name": "stdout",
          "text": [
            "1 \n",
            "2 2 \n",
            "3 4 3 \n",
            "4 7 10 4 \n",
            "5 11 21 25 5 \n"
          ]
        }
      ]
    },
    {
      "cell_type": "markdown",
      "source": [
        "Trace The BOT"
      ],
      "metadata": {
        "id": "kmsoaeaVWIT7"
      }
    },
    {
      "cell_type": "code",
      "source": [
        "#task 5\n",
        "#task 5\n",
        "import numpy as np\n",
        "class BracuNanobots:\n",
        "  def __init__(self):\n",
        "    self.grid = np.full((7,7), \".\")\n",
        "    self.grid[3][3] = \"-\"\n",
        "    self.bot_position = [3,3]\n",
        "\n",
        "  def UpperLeft(self):\n",
        "    self.bot_position[0] -= 2\n",
        "    self.bot_position[1] -= 2\n",
        "\n",
        "  def UpperRight(self):\n",
        "    self.bot_position[0] -= 2\n",
        "    self.bot_position[1] += 2\n",
        "\n",
        "  def LowerLeft(self):\n",
        "    self.bot_position[0] += 2\n",
        "    self.bot_position[1] -= 2\n",
        "\n",
        "  def Right(self):\n",
        "    self.bot_position[1] += 1\n",
        "\n",
        "  def Left(self):\n",
        "    self.bot_position[1] -= 1\n",
        "\n",
        "  def Upper(self):\n",
        "    self.bot_position[0] -= 1\n",
        "\n",
        "  def Lower(self):\n",
        "    self.bot_position[1] += 1\n",
        "\n",
        "  def change_position(self,commands):\n",
        "    if commands >= 1 and commands <= 4:\n",
        "      self.UpperLeft()\n",
        "      if commands == 1:\n",
        "        self.Left()\n",
        "      elif commands == 2:\n",
        "        self.Right()\n",
        "      elif commands == 3:\n",
        "        self.Upper()\n",
        "      elif commands == 4:\n",
        "        self.Lower()\n",
        "\n",
        "    elif commands >= 5 and commands <= 8:\n",
        "      self.UpperRight()\n",
        "      if commands == 5:\n",
        "        self.Left()\n",
        "      elif commands == 6:\n",
        "        self.Right()\n",
        "      elif commands == 7:\n",
        "        self.Upper()\n",
        "      elif commands == 8:\n",
        "        self.Lower()\n",
        "\n",
        "    elif commands >= 9 and commands <= 12:\n",
        "      self.LowerLeft()\n",
        "      if commands == 9:\n",
        "        self.Left()\n",
        "      elif commands == 10:\n",
        "        self.Right()\n",
        "      elif commands == 11:\n",
        "        self.Upper()\n",
        "      elif commands == 12:\n",
        "        self.Lower()\n",
        "    return self.bot_position\n",
        "\n",
        "def moving_around(cmnds):\n",
        "  for iter in range(len(cmnds)):\n",
        "    initial_position = [bot.bot_position[0], bot.bot_position[1]]\n",
        "    final_position = bot.change_position(cmnds[iter])\n",
        "    if 0 <= final_position[0] < len(bot.grid) and 0 <= final_position[1] < len(bot.grid):\n",
        "        if iter != 0:\n",
        "            bot.grid[initial_position[0]][initial_position[1]] = \"*\"\n",
        "        bot.grid[final_position[0]][final_position[1]] = \"/\"\n",
        "  return bot.grid\n",
        "\n",
        "\n",
        "\n",
        "bot = BracuNanobots()\n",
        "cmds = np.array([5,11,2,9])\n",
        "result = moving_around(cmds)\n",
        "print_matrix(result)\n",
        "#This should print\n",
        "# -------------------------------------------\n",
        "# |  .  |  /  |  .  |  .  |  .  |  .  |  .  |\n",
        "# -------------------------------------------\n",
        "# |  .  |  .  |  .  |  .  |  *  |  .  |  .  |\n",
        "# -------------------------------------------\n",
        "# |  .  |  .  |  *  |  .  |  .  |  .  |  .  |\n",
        "# -------------------------------------------\n",
        "# |  .  |  .  |  .  |  -  |  .  |  .  |  .  |\n",
        "# -------------------------------------------\n",
        "# |  .  |  .  |  .  |  .  |  .  |  .  |  .  |\n",
        "# -------------------------------------------\n",
        "# |  .  |  .  |  .  |  .  |  .  |  .  |  .  |\n",
        "# -------------------------------------------\n",
        "# |  .  |  .  |  .  |  .  |  .  |  .  |  .  |\n",
        "# -------------------------------------------\n"
      ],
      "metadata": {
        "colab": {
          "base_uri": "https://localhost:8080/"
        },
        "id": "SZkTcpnrWMEj",
        "outputId": "57754ee3-b009-4643-dfa3-ed20883f1492"
      },
      "execution_count": null,
      "outputs": [
        {
          "output_type": "stream",
          "name": "stdout",
          "text": [
            "|  .  |  /  |  .  |  .  |  .  |  .  |  .  |\n",
            "-------------------------------------------\n",
            "|  .  |  .  |  .  |  .  |  *  |  .  |  .  |\n",
            "-------------------------------------------\n",
            "|  .  |  .  |  *  |  .  |  .  |  .  |  .  |\n",
            "-------------------------------------------\n",
            "|  .  |  .  |  .  |  -  |  .  |  .  |  .  |\n",
            "-------------------------------------------\n",
            "|  .  |  .  |  .  |  .  |  .  |  .  |  .  |\n",
            "-------------------------------------------\n",
            "|  .  |  .  |  .  |  .  |  .  |  .  |  .  |\n",
            "-------------------------------------------\n",
            "|  .  |  .  |  .  |  .  |  .  |  .  |  .  |\n",
            "-------------------------------------------\n"
          ]
        }
      ]
    }
  ]
}